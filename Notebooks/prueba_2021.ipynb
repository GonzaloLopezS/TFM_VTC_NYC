{
 "cells": [
  {
   "cell_type": "markdown",
   "metadata": {},
   "source": [
    "Fuente original: https://www.nyc.gov/site/tlc/about/tlc-trip-record-data.page\\\n",
    "En Kaggle: https://www.kaggle.com/datasets/shuhengmo/uber-nyc-forhire-vehicles-trip-data-2021"
   ]
  },
  {
   "cell_type": "markdown",
   "metadata": {},
   "source": [
    "## Ejemplo prueba VTC NCY 2021"
   ]
  },
  {
   "cell_type": "code",
   "execution_count": 1,
   "metadata": {},
   "outputs": [],
   "source": [
    "import pandas as pd"
   ]
  },
  {
   "cell_type": "code",
   "execution_count": 4,
   "metadata": {},
   "outputs": [],
   "source": [
    "path = '../Data/uber-nyc-forhire-vehicles-trip-data-2021/versions/1/'\n",
    "file = 'fhvhv_tripdata_2021-01.csv'"
   ]
  },
  {
   "cell_type": "code",
   "execution_count": 5,
   "metadata": {},
   "outputs": [],
   "source": [
    "trips = pd.read_csv(path + file)"
   ]
  },
  {
   "cell_type": "code",
   "execution_count": 7,
   "metadata": {},
   "outputs": [
    {
     "data": {
      "text/plain": [
       "hvfhs_license_num           0\n",
       "dispatching_base_num        0\n",
       "originating_base_num    27162\n",
       "request_datetime            0\n",
       "on_scene_datetime       27064\n",
       "pickup_datetime             0\n",
       "dropoff_datetime            0\n",
       "PULocationID                0\n",
       "DOLocationID                0\n",
       "trip_miles                  0\n",
       "trip_time                   0\n",
       "base_passenger_fare         0\n",
       "tolls                       0\n",
       "bcf                         0\n",
       "sales_tax                   0\n",
       "congestion_surcharge        0\n",
       "airport_fee             99953\n",
       "tips                        0\n",
       "driver_pay                  0\n",
       "shared_request_flag         0\n",
       "shared_match_flag           0\n",
       "access_a_ride_flag          0\n",
       "wav_request_flag            0\n",
       "wav_match_flag              0\n",
       "dtype: int64"
      ]
     },
     "execution_count": 7,
     "metadata": {},
     "output_type": "execute_result"
    }
   ],
   "source": [
    "trips.isna().sum()"
   ]
  },
  {
   "cell_type": "code",
   "execution_count": 8,
   "metadata": {},
   "outputs": [],
   "source": [
    "trips.drop(columns=['airport_fee'], inplace=True)"
   ]
  },
  {
   "cell_type": "code",
   "execution_count": null,
   "metadata": {},
   "outputs": [],
   "source": [
    "datetime_columns = ['request_datetime', 'on_scene_datetime', 'pickup_datetime', 'dropoff_datetime']\n",
    "new_trips.drop(columns=datetime_columns, inplace=True)"
   ]
  },
  {
   "cell_type": "code",
   "execution_count": 18,
   "metadata": {},
   "outputs": [],
   "source": [
    "from sklearn.compose import ColumnTransformer\n",
    "from sklearn.ensemble import RandomForestRegressor\n",
    "from sklearn.impute import SimpleImputer\n",
    "from sklearn.pipeline import Pipeline\n",
    "from sklearn.preprocessing import OrdinalEncoder\n",
    "\n",
    "# Define the columns\n",
    "object_columns = new_trips.select_dtypes(include=['object']).columns.tolist()\n",
    "\n",
    "object_transformer = Pipeline(steps=[\n",
    "    ('imputer', SimpleImputer(strategy='most_frequent')),\n",
    "    ('encoder', OrdinalEncoder())\n",
    "])\n",
    "\n",
    "# Combine transformers into a preprocessor\n",
    "preprocessor = ColumnTransformer(\n",
    "    transformers=[\n",
    "        ('object', object_transformer, object_columns)\n",
    "    ],\n",
    "    remainder='passthrough'\n",
    ")\n"
   ]
  },
  {
   "cell_type": "code",
   "execution_count": 19,
   "metadata": {},
   "outputs": [
    {
     "name": "stdout",
     "output_type": "stream",
     "text": [
      "(80000, 18) (20000, 18) (80000,) (20000,)\n"
     ]
    }
   ],
   "source": [
    "from sklearn.model_selection import train_test_split\n",
    "\n",
    "# Separate features and target variable\n",
    "X = new_trips.drop(columns=['driver_pay'])\n",
    "y = new_trips['driver_pay']\n",
    "\n",
    "# Split the data into training and testing sets\n",
    "X_train, X_test, y_train, y_test = train_test_split(X, y, test_size=0.2, random_state=42)\n",
    "\n",
    "print(X_train.shape, X_test.shape, y_train.shape, y_test.shape)"
   ]
  },
  {
   "cell_type": "markdown",
   "metadata": {},
   "source": [
    "### Regresor"
   ]
  },
  {
   "cell_type": "code",
   "execution_count": 23,
   "metadata": {},
   "outputs": [
    {
     "data": {
      "text/html": [
       "<style>#sk-container-id-2 {color: black;}#sk-container-id-2 pre{padding: 0;}#sk-container-id-2 div.sk-toggleable {background-color: white;}#sk-container-id-2 label.sk-toggleable__label {cursor: pointer;display: block;width: 100%;margin-bottom: 0;padding: 0.3em;box-sizing: border-box;text-align: center;}#sk-container-id-2 label.sk-toggleable__label-arrow:before {content: \"▸\";float: left;margin-right: 0.25em;color: #696969;}#sk-container-id-2 label.sk-toggleable__label-arrow:hover:before {color: black;}#sk-container-id-2 div.sk-estimator:hover label.sk-toggleable__label-arrow:before {color: black;}#sk-container-id-2 div.sk-toggleable__content {max-height: 0;max-width: 0;overflow: hidden;text-align: left;background-color: #f0f8ff;}#sk-container-id-2 div.sk-toggleable__content pre {margin: 0.2em;color: black;border-radius: 0.25em;background-color: #f0f8ff;}#sk-container-id-2 input.sk-toggleable__control:checked~div.sk-toggleable__content {max-height: 200px;max-width: 100%;overflow: auto;}#sk-container-id-2 input.sk-toggleable__control:checked~label.sk-toggleable__label-arrow:before {content: \"▾\";}#sk-container-id-2 div.sk-estimator input.sk-toggleable__control:checked~label.sk-toggleable__label {background-color: #d4ebff;}#sk-container-id-2 div.sk-label input.sk-toggleable__control:checked~label.sk-toggleable__label {background-color: #d4ebff;}#sk-container-id-2 input.sk-hidden--visually {border: 0;clip: rect(1px 1px 1px 1px);clip: rect(1px, 1px, 1px, 1px);height: 1px;margin: -1px;overflow: hidden;padding: 0;position: absolute;width: 1px;}#sk-container-id-2 div.sk-estimator {font-family: monospace;background-color: #f0f8ff;border: 1px dotted black;border-radius: 0.25em;box-sizing: border-box;margin-bottom: 0.5em;}#sk-container-id-2 div.sk-estimator:hover {background-color: #d4ebff;}#sk-container-id-2 div.sk-parallel-item::after {content: \"\";width: 100%;border-bottom: 1px solid gray;flex-grow: 1;}#sk-container-id-2 div.sk-label:hover label.sk-toggleable__label {background-color: #d4ebff;}#sk-container-id-2 div.sk-serial::before {content: \"\";position: absolute;border-left: 1px solid gray;box-sizing: border-box;top: 0;bottom: 0;left: 50%;z-index: 0;}#sk-container-id-2 div.sk-serial {display: flex;flex-direction: column;align-items: center;background-color: white;padding-right: 0.2em;padding-left: 0.2em;position: relative;}#sk-container-id-2 div.sk-item {position: relative;z-index: 1;}#sk-container-id-2 div.sk-parallel {display: flex;align-items: stretch;justify-content: center;background-color: white;position: relative;}#sk-container-id-2 div.sk-item::before, #sk-container-id-2 div.sk-parallel-item::before {content: \"\";position: absolute;border-left: 1px solid gray;box-sizing: border-box;top: 0;bottom: 0;left: 50%;z-index: -1;}#sk-container-id-2 div.sk-parallel-item {display: flex;flex-direction: column;z-index: 1;position: relative;background-color: white;}#sk-container-id-2 div.sk-parallel-item:first-child::after {align-self: flex-end;width: 50%;}#sk-container-id-2 div.sk-parallel-item:last-child::after {align-self: flex-start;width: 50%;}#sk-container-id-2 div.sk-parallel-item:only-child::after {width: 0;}#sk-container-id-2 div.sk-dashed-wrapped {border: 1px dashed gray;margin: 0 0.4em 0.5em 0.4em;box-sizing: border-box;padding-bottom: 0.4em;background-color: white;}#sk-container-id-2 div.sk-label label {font-family: monospace;font-weight: bold;display: inline-block;line-height: 1.2em;}#sk-container-id-2 div.sk-label-container {text-align: center;}#sk-container-id-2 div.sk-container {/* jupyter's `normalize.less` sets `[hidden] { display: none; }` but bootstrap.min.css set `[hidden] { display: none !important; }` so we also need the `!important` here to be able to override the default hidden behavior on the sphinx rendered scikit-learn.org. See: https://github.com/scikit-learn/scikit-learn/issues/21755 */display: inline-block !important;position: relative;}#sk-container-id-2 div.sk-text-repr-fallback {display: none;}</style><div id=\"sk-container-id-2\" class=\"sk-top-container\"><div class=\"sk-text-repr-fallback\"><pre>Pipeline(steps=[(&#x27;preprocessor&#x27;,\n",
       "                 ColumnTransformer(remainder=&#x27;passthrough&#x27;,\n",
       "                                   transformers=[(&#x27;object&#x27;,\n",
       "                                                  Pipeline(steps=[(&#x27;imputer&#x27;,\n",
       "                                                                   SimpleImputer(strategy=&#x27;most_frequent&#x27;)),\n",
       "                                                                  (&#x27;encoder&#x27;,\n",
       "                                                                   OrdinalEncoder())]),\n",
       "                                                  [&#x27;hvfhs_license_num&#x27;,\n",
       "                                                   &#x27;dispatching_base_num&#x27;,\n",
       "                                                   &#x27;originating_base_num&#x27;,\n",
       "                                                   &#x27;shared_request_flag&#x27;,\n",
       "                                                   &#x27;shared_match_flag&#x27;,\n",
       "                                                   &#x27;access_a_ride_flag&#x27;,\n",
       "                                                   &#x27;wav_request_flag&#x27;,\n",
       "                                                   &#x27;wav_match_flag&#x27;])])),\n",
       "                (&#x27;regressor&#x27;,\n",
       "                 RandomForestRegressor(n_estimators=10, random_state=13431))])</pre><b>In a Jupyter environment, please rerun this cell to show the HTML representation or trust the notebook. <br />On GitHub, the HTML representation is unable to render, please try loading this page with nbviewer.org.</b></div><div class=\"sk-container\" hidden><div class=\"sk-item sk-dashed-wrapped\"><div class=\"sk-label-container\"><div class=\"sk-label sk-toggleable\"><input class=\"sk-toggleable__control sk-hidden--visually\" id=\"sk-estimator-id-9\" type=\"checkbox\" ><label for=\"sk-estimator-id-9\" class=\"sk-toggleable__label sk-toggleable__label-arrow\">Pipeline</label><div class=\"sk-toggleable__content\"><pre>Pipeline(steps=[(&#x27;preprocessor&#x27;,\n",
       "                 ColumnTransformer(remainder=&#x27;passthrough&#x27;,\n",
       "                                   transformers=[(&#x27;object&#x27;,\n",
       "                                                  Pipeline(steps=[(&#x27;imputer&#x27;,\n",
       "                                                                   SimpleImputer(strategy=&#x27;most_frequent&#x27;)),\n",
       "                                                                  (&#x27;encoder&#x27;,\n",
       "                                                                   OrdinalEncoder())]),\n",
       "                                                  [&#x27;hvfhs_license_num&#x27;,\n",
       "                                                   &#x27;dispatching_base_num&#x27;,\n",
       "                                                   &#x27;originating_base_num&#x27;,\n",
       "                                                   &#x27;shared_request_flag&#x27;,\n",
       "                                                   &#x27;shared_match_flag&#x27;,\n",
       "                                                   &#x27;access_a_ride_flag&#x27;,\n",
       "                                                   &#x27;wav_request_flag&#x27;,\n",
       "                                                   &#x27;wav_match_flag&#x27;])])),\n",
       "                (&#x27;regressor&#x27;,\n",
       "                 RandomForestRegressor(n_estimators=10, random_state=13431))])</pre></div></div></div><div class=\"sk-serial\"><div class=\"sk-item sk-dashed-wrapped\"><div class=\"sk-label-container\"><div class=\"sk-label sk-toggleable\"><input class=\"sk-toggleable__control sk-hidden--visually\" id=\"sk-estimator-id-10\" type=\"checkbox\" ><label for=\"sk-estimator-id-10\" class=\"sk-toggleable__label sk-toggleable__label-arrow\">preprocessor: ColumnTransformer</label><div class=\"sk-toggleable__content\"><pre>ColumnTransformer(remainder=&#x27;passthrough&#x27;,\n",
       "                  transformers=[(&#x27;object&#x27;,\n",
       "                                 Pipeline(steps=[(&#x27;imputer&#x27;,\n",
       "                                                  SimpleImputer(strategy=&#x27;most_frequent&#x27;)),\n",
       "                                                 (&#x27;encoder&#x27;,\n",
       "                                                  OrdinalEncoder())]),\n",
       "                                 [&#x27;hvfhs_license_num&#x27;, &#x27;dispatching_base_num&#x27;,\n",
       "                                  &#x27;originating_base_num&#x27;, &#x27;shared_request_flag&#x27;,\n",
       "                                  &#x27;shared_match_flag&#x27;, &#x27;access_a_ride_flag&#x27;,\n",
       "                                  &#x27;wav_request_flag&#x27;, &#x27;wav_match_flag&#x27;])])</pre></div></div></div><div class=\"sk-parallel\"><div class=\"sk-parallel-item\"><div class=\"sk-item\"><div class=\"sk-label-container\"><div class=\"sk-label sk-toggleable\"><input class=\"sk-toggleable__control sk-hidden--visually\" id=\"sk-estimator-id-11\" type=\"checkbox\" ><label for=\"sk-estimator-id-11\" class=\"sk-toggleable__label sk-toggleable__label-arrow\">object</label><div class=\"sk-toggleable__content\"><pre>[&#x27;hvfhs_license_num&#x27;, &#x27;dispatching_base_num&#x27;, &#x27;originating_base_num&#x27;, &#x27;shared_request_flag&#x27;, &#x27;shared_match_flag&#x27;, &#x27;access_a_ride_flag&#x27;, &#x27;wav_request_flag&#x27;, &#x27;wav_match_flag&#x27;]</pre></div></div></div><div class=\"sk-serial\"><div class=\"sk-item\"><div class=\"sk-serial\"><div class=\"sk-item\"><div class=\"sk-estimator sk-toggleable\"><input class=\"sk-toggleable__control sk-hidden--visually\" id=\"sk-estimator-id-12\" type=\"checkbox\" ><label for=\"sk-estimator-id-12\" class=\"sk-toggleable__label sk-toggleable__label-arrow\">SimpleImputer</label><div class=\"sk-toggleable__content\"><pre>SimpleImputer(strategy=&#x27;most_frequent&#x27;)</pre></div></div></div><div class=\"sk-item\"><div class=\"sk-estimator sk-toggleable\"><input class=\"sk-toggleable__control sk-hidden--visually\" id=\"sk-estimator-id-13\" type=\"checkbox\" ><label for=\"sk-estimator-id-13\" class=\"sk-toggleable__label sk-toggleable__label-arrow\">OrdinalEncoder</label><div class=\"sk-toggleable__content\"><pre>OrdinalEncoder()</pre></div></div></div></div></div></div></div></div><div class=\"sk-parallel-item\"><div class=\"sk-item\"><div class=\"sk-label-container\"><div class=\"sk-label sk-toggleable\"><input class=\"sk-toggleable__control sk-hidden--visually\" id=\"sk-estimator-id-14\" type=\"checkbox\" ><label for=\"sk-estimator-id-14\" class=\"sk-toggleable__label sk-toggleable__label-arrow\">remainder</label><div class=\"sk-toggleable__content\"><pre>[&#x27;PULocationID&#x27;, &#x27;DOLocationID&#x27;, &#x27;trip_miles&#x27;, &#x27;trip_time&#x27;, &#x27;base_passenger_fare&#x27;, &#x27;tolls&#x27;, &#x27;bcf&#x27;, &#x27;sales_tax&#x27;, &#x27;congestion_surcharge&#x27;, &#x27;tips&#x27;]</pre></div></div></div><div class=\"sk-serial\"><div class=\"sk-item\"><div class=\"sk-estimator sk-toggleable\"><input class=\"sk-toggleable__control sk-hidden--visually\" id=\"sk-estimator-id-15\" type=\"checkbox\" ><label for=\"sk-estimator-id-15\" class=\"sk-toggleable__label sk-toggleable__label-arrow\">passthrough</label><div class=\"sk-toggleable__content\"><pre>passthrough</pre></div></div></div></div></div></div></div></div><div class=\"sk-item\"><div class=\"sk-estimator sk-toggleable\"><input class=\"sk-toggleable__control sk-hidden--visually\" id=\"sk-estimator-id-16\" type=\"checkbox\" ><label for=\"sk-estimator-id-16\" class=\"sk-toggleable__label sk-toggleable__label-arrow\">RandomForestRegressor</label><div class=\"sk-toggleable__content\"><pre>RandomForestRegressor(n_estimators=10, random_state=13431)</pre></div></div></div></div></div></div></div>"
      ],
      "text/plain": [
       "Pipeline(steps=[('preprocessor',\n",
       "                 ColumnTransformer(remainder='passthrough',\n",
       "                                   transformers=[('object',\n",
       "                                                  Pipeline(steps=[('imputer',\n",
       "                                                                   SimpleImputer(strategy='most_frequent')),\n",
       "                                                                  ('encoder',\n",
       "                                                                   OrdinalEncoder())]),\n",
       "                                                  ['hvfhs_license_num',\n",
       "                                                   'dispatching_base_num',\n",
       "                                                   'originating_base_num',\n",
       "                                                   'shared_request_flag',\n",
       "                                                   'shared_match_flag',\n",
       "                                                   'access_a_ride_flag',\n",
       "                                                   'wav_request_flag',\n",
       "                                                   'wav_match_flag'])])),\n",
       "                ('regressor',\n",
       "                 RandomForestRegressor(n_estimators=10, random_state=13431))])"
      ]
     },
     "execution_count": 23,
     "metadata": {},
     "output_type": "execute_result"
    }
   ],
   "source": [
    "\n",
    "# Create the pipeline\n",
    "pipeline = Pipeline(steps=[\n",
    "    ('preprocessor', preprocessor),\n",
    "    ('regressor', RandomForestRegressor(random_state=13431, n_estimators=10))\n",
    "])\n",
    "\n",
    "# Fit the pipeline\n",
    "pipeline.fit(X_train, y_train)"
   ]
  },
  {
   "cell_type": "code",
   "execution_count": 24,
   "metadata": {},
   "outputs": [
    {
     "name": "stdout",
     "output_type": "stream",
     "text": [
      "R2 Score on training data: 0.9811655021990764\n",
      "Mean Absolute Error on training data: 0.7421199375\n"
     ]
    }
   ],
   "source": [
    "from sklearn.metrics import r2_score, mean_absolute_error\n",
    "\n",
    "# Predict on the training data\n",
    "y_train_pred = pipeline.predict(X_train)\n",
    "\n",
    "# Evaluate r2_score and mean_absolute_error\n",
    "r2 = r2_score(y_train, y_train_pred)\n",
    "mae = mean_absolute_error(y_train, y_train_pred)\n",
    "\n",
    "print(f'R2 Score on training data: {r2}')\n",
    "print(f'Mean Absolute Error on training data: {mae}')"
   ]
  },
  {
   "cell_type": "code",
   "execution_count": 25,
   "metadata": {},
   "outputs": [
    {
     "name": "stdout",
     "output_type": "stream",
     "text": [
      "R2 Score on test data: 0.8956724178476981\n",
      "Mean Absolute Error on test data: 1.8789109\n"
     ]
    }
   ],
   "source": [
    "# Predict on the test data\n",
    "y_test_pred = pipeline.predict(X_test)\n",
    "\n",
    "# Evaluate r2_score and mean_absolute_error\n",
    "r2_test = r2_score(y_test, y_test_pred)\n",
    "mae_test = mean_absolute_error(y_test, y_test_pred)\n",
    "\n",
    "print(f'R2 Score on test data: {r2_test}')\n",
    "print(f'Mean Absolute Error on test data: {mae_test}')"
   ]
  },
  {
   "cell_type": "markdown",
   "metadata": {},
   "source": [
    "### Clustering"
   ]
  },
  {
   "cell_type": "code",
   "execution_count": null,
   "metadata": {},
   "outputs": [
    {
     "name": "stdout",
     "output_type": "stream",
     "text": [
      "   hvfhs_license_num  dispatching_base_num  originating_base_num  \\\n",
      "0          -0.607397             -0.795056             -1.371359   \n",
      "1          -0.607397             -0.795056             -1.371359   \n",
      "2          -0.607397             -0.688674             -1.242408   \n",
      "3          -0.607397             -0.688674             -1.242408   \n",
      "4          -0.607397             -0.688674             -1.242408   \n",
      "\n",
      "   PULocationID  DOLocationID  trip_miles  trip_time  base_passenger_fare  \\\n",
      "0      1.253846      0.387860    0.113862   0.096006             0.269233   \n",
      "1      0.250706      0.400381   -0.228483   0.995936            -0.024927   \n",
      "2      1.292428      0.087344   -0.258252  -0.049081            -0.348352   \n",
      "3      0.122098      0.099865   -0.847256  -1.362706            -0.809101   \n",
      "4      0.134959     -0.714033    0.951652   0.693999             0.631679   \n",
      "\n",
      "     tolls       bcf  sales_tax  congestion_surcharge      tips  driver_pay  \\\n",
      "0 -0.22757  0.175771   0.315483              1.697287 -0.273185   -0.068450   \n",
      "1 -0.22757 -0.087902   0.010929             -0.589176 -0.273185    0.132298   \n",
      "2 -0.22757 -0.241712  -0.319730              1.697287  0.227357   -0.263380   \n",
      "3 -0.22757 -0.769058  -0.798314              1.697287 -0.273185   -0.803557   \n",
      "4 -0.22757  0.483389   0.689649              1.697287 -0.273185    0.654049   \n",
      "\n",
      "   shared_request_flag  shared_match_flag  access_a_ride_flag  \\\n",
      "0            -0.016434                0.0           -0.609321   \n",
      "1            -0.016434                0.0           -0.609321   \n",
      "2            -0.016434                0.0           -0.609321   \n",
      "3            -0.016434                0.0           -0.609321   \n",
      "4            -0.016434                0.0           -0.609321   \n",
      "\n",
      "   wav_request_flag  wav_match_flag  \n",
      "0         -0.024502       -0.159503  \n",
      "1         -0.024502       -0.159503  \n",
      "2         -0.024502       -0.159503  \n",
      "3         -0.024502       -0.159503  \n",
      "4         -0.024502       -0.159503  \n"
     ]
    }
   ],
   "source": [
    "from sklearn.preprocessing import StandardScaler\n",
    "\n",
    "# Step 1: Create a copy of the trips dataframe\n",
    "trips_copy = trips.copy()\n",
    "\n",
    "# Step 2: Convert object type columns using OrdinalEncoder\n",
    "object_columns = trips_copy.select_dtypes(include=['object']).columns.tolist()\n",
    "encoder = OrdinalEncoder()\n",
    "trips_copy[object_columns] = encoder.fit_transform(trips_copy[object_columns])\n",
    "\n",
    "# Step 3: Drop the datetime variables\n",
    "datetime_columns = ['request_datetime', 'on_scene_datetime', 'pickup_datetime', 'dropoff_datetime']\n",
    "trips_copy.drop(columns=datetime_columns, inplace=True)\n",
    "\n",
    "# Step 4: Apply StandardScaler\n",
    "scaler = StandardScaler()\n",
    "trips_scaled = scaler.fit_transform(trips_copy)\n",
    "\n",
    "# Convert the scaled data back to a DataFrame\n",
    "trips_scaled_df = pd.DataFrame(trips_scaled, columns=trips_copy.columns)"
   ]
  },
  {
   "cell_type": "code",
   "execution_count": 31,
   "metadata": {},
   "outputs": [
    {
     "name": "stdout",
     "output_type": "stream",
     "text": [
      "   hvfhs_license_num  dispatching_base_num  originating_base_num  \\\n",
      "0          -0.607397             -0.795056             -1.371359   \n",
      "1          -0.607397             -0.795056             -1.371359   \n",
      "2          -0.607397             -0.688674             -1.242408   \n",
      "3          -0.607397             -0.688674             -1.242408   \n",
      "4          -0.607397             -0.688674             -1.242408   \n",
      "\n",
      "   PULocationID  DOLocationID  trip_miles  trip_time  base_passenger_fare  \\\n",
      "0      1.253846      0.387860    0.113862   0.096006             0.269233   \n",
      "1      0.250706      0.400381   -0.228483   0.995936            -0.024927   \n",
      "2      1.292428      0.087344   -0.258252  -0.049081            -0.348352   \n",
      "3      0.122098      0.099865   -0.847256  -1.362706            -0.809101   \n",
      "4      0.134959     -0.714033    0.951652   0.693999             0.631679   \n",
      "\n",
      "     tolls       bcf  sales_tax  congestion_surcharge      tips  driver_pay  \\\n",
      "0 -0.22757  0.175771   0.315483              1.697287 -0.273185   -0.068450   \n",
      "1 -0.22757 -0.087902   0.010929             -0.589176 -0.273185    0.132298   \n",
      "2 -0.22757 -0.241712  -0.319730              1.697287  0.227357   -0.263380   \n",
      "3 -0.22757 -0.769058  -0.798314              1.697287 -0.273185   -0.803557   \n",
      "4 -0.22757  0.483389   0.689649              1.697287 -0.273185    0.654049   \n",
      "\n",
      "   shared_request_flag  shared_match_flag  access_a_ride_flag  \\\n",
      "0            -0.016434                0.0           -0.609321   \n",
      "1            -0.016434                0.0           -0.609321   \n",
      "2            -0.016434                0.0           -0.609321   \n",
      "3            -0.016434                0.0           -0.609321   \n",
      "4            -0.016434                0.0           -0.609321   \n",
      "\n",
      "   wav_request_flag  wav_match_flag  \n",
      "0         -0.024502       -0.159503  \n",
      "1         -0.024502       -0.159503  \n",
      "2         -0.024502       -0.159503  \n",
      "3         -0.024502       -0.159503  \n",
      "4         -0.024502       -0.159503  \n"
     ]
    }
   ],
   "source": [
    "from sklearn.impute import SimpleImputer\n",
    "\n",
    "# Create an imputer object with mean strategy\n",
    "imputer = SimpleImputer(strategy='mean')\n",
    "\n",
    "# Apply the imputer to the dataframe\n",
    "trips_scaled_df_imputed = pd.DataFrame(imputer.fit_transform(trips_scaled_df), columns=trips_scaled_df.columns)\n",
    "\n",
    "# Display the first few rows of the imputed dataframe\n",
    "print(trips_scaled_df_imputed.head())"
   ]
  },
  {
   "cell_type": "code",
   "execution_count": null,
   "metadata": {},
   "outputs": [
    {
     "name": "stderr",
     "output_type": "stream",
     "text": [
      "/home/gonzalopc/.local/lib/python3.10/site-packages/sklearn/cluster/_kmeans.py:1412: FutureWarning: The default value of `n_init` will change from 10 to 'auto' in 1.4. Set the value of `n_init` explicitly to suppress the warning\n",
      "  super()._check_params_vs_input(X, default_n_init=10)\n"
     ]
    },
    {
     "name": "stdout",
     "output_type": "stream",
     "text": [
      "   hvfhs_license_num  dispatching_base_num  originating_base_num  \\\n",
      "0          -0.607397             -0.795056             -1.371359   \n",
      "1          -0.607397             -0.795056             -1.371359   \n",
      "2          -0.607397             -0.688674             -1.242408   \n",
      "3          -0.607397             -0.688674             -1.242408   \n",
      "4          -0.607397             -0.688674             -1.242408   \n",
      "\n",
      "   PULocationID  DOLocationID  trip_miles  trip_time  base_passenger_fare  \\\n",
      "0      1.253846      0.387860    0.113862   0.096006             0.269233   \n",
      "1      0.250706      0.400381   -0.228483   0.995936            -0.024927   \n",
      "2      1.292428      0.087344   -0.258252  -0.049081            -0.348352   \n",
      "3      0.122098      0.099865   -0.847256  -1.362706            -0.809101   \n",
      "4      0.134959     -0.714033    0.951652   0.693999             0.631679   \n",
      "\n",
      "     tolls       bcf  sales_tax  congestion_surcharge      tips  driver_pay  \\\n",
      "0 -0.22757  0.175771   0.315483              1.697287 -0.273185   -0.068450   \n",
      "1 -0.22757 -0.087902   0.010929             -0.589176 -0.273185    0.132298   \n",
      "2 -0.22757 -0.241712  -0.319730              1.697287  0.227357   -0.263380   \n",
      "3 -0.22757 -0.769058  -0.798314              1.697287 -0.273185   -0.803557   \n",
      "4 -0.22757  0.483389   0.689649              1.697287 -0.273185    0.654049   \n",
      "\n",
      "   shared_request_flag  shared_match_flag  access_a_ride_flag  \\\n",
      "0            -0.016434                0.0           -0.609321   \n",
      "1            -0.016434                0.0           -0.609321   \n",
      "2            -0.016434                0.0           -0.609321   \n",
      "3            -0.016434                0.0           -0.609321   \n",
      "4            -0.016434                0.0           -0.609321   \n",
      "\n",
      "   wav_request_flag  wav_match_flag  cluster  \n",
      "0         -0.024502       -0.159503        2  \n",
      "1         -0.024502       -0.159503        2  \n",
      "2         -0.024502       -0.159503        2  \n",
      "3         -0.024502       -0.159503        2  \n",
      "4         -0.024502       -0.159503        1  \n"
     ]
    }
   ],
   "source": [
    "from sklearn.cluster import KMeans\n",
    "\n",
    "# Apply KMeans\n",
    "kmeans = KMeans(n_clusters=8, random_state=42)\n",
    "kmeans.fit(trips_scaled_df_imputed)\n",
    "\n",
    "# Add the cluster labels to the dataframe\n",
    "trips_scaled_df_imputed['cluster'] = kmeans.labels_"
   ]
  },
  {
   "cell_type": "code",
   "execution_count": 35,
   "metadata": {},
   "outputs": [
    {
     "data": {
      "text/plain": [
       "cluster\n",
       "0    32710\n",
       "2    23618\n",
       "4    22041\n",
       "1    15462\n",
       "5     3695\n",
       "7     2387\n",
       "3       60\n",
       "6       27\n",
       "Name: count, dtype: int64"
      ]
     },
     "execution_count": 35,
     "metadata": {},
     "output_type": "execute_result"
    }
   ],
   "source": [
    "trips_scaled_df_imputed['cluster'].value_counts()"
   ]
  }
 ],
 "metadata": {
  "kernelspec": {
   "display_name": "Python 3",
   "language": "python",
   "name": "python3"
  },
  "language_info": {
   "codemirror_mode": {
    "name": "ipython",
    "version": 3
   },
   "file_extension": ".py",
   "mimetype": "text/x-python",
   "name": "python",
   "nbconvert_exporter": "python",
   "pygments_lexer": "ipython3",
   "version": "3.10.12"
  }
 },
 "nbformat": 4,
 "nbformat_minor": 2
}
