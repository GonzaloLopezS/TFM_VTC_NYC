{
 "cells": [
  {
   "cell_type": "code",
   "execution_count": 1,
   "metadata": {},
   "outputs": [],
   "source": [
    "import pandas as pd\n",
    "parquet_file = '../Data/uber-nyc-forhire-vehicles-trip-data-2021/versions/1/fhvhv_tripdata_2021-05.parquet'"
   ]
  },
  {
   "cell_type": "code",
   "execution_count": 2,
   "metadata": {},
   "outputs": [],
   "source": [
    "import pyarrow.parquet as pq\n",
    "trips = pq.read_table(parquet_file)\n"
   ]
  },
  {
   "cell_type": "code",
   "execution_count": 3,
   "metadata": {},
   "outputs": [],
   "source": [
    "trips = trips.to_pandas().sample(n=500000, random_state=42)"
   ]
  },
  {
   "cell_type": "code",
   "execution_count": 4,
   "metadata": {},
   "outputs": [
    {
     "name": "stdout",
     "output_type": "stream",
     "text": [
      "Converted ../Data/uber-nyc-forhire-vehicles-trip-data-2021/versions/1/fhvhv_tripdata_2021-05.parquet to fhv_tripdata_2021-05.csv\n"
     ]
    }
   ],
   "source": [
    "# Convert to CSV\n",
    "csv_file = 'fhv_tripdata_2021-05.csv'\n",
    "trips.to_csv(csv_file, index=False)\n",
    "\n",
    "print(f\"Converted {parquet_file} to {csv_file}\")"
   ]
  }
 ],
 "metadata": {
  "kernelspec": {
   "display_name": "Python 3",
   "language": "python",
   "name": "python3"
  },
  "language_info": {
   "codemirror_mode": {
    "name": "ipython",
    "version": 3
   },
   "file_extension": ".py",
   "mimetype": "text/x-python",
   "name": "python",
   "nbconvert_exporter": "python",
   "pygments_lexer": "ipython3",
   "version": "3.10.12"
  }
 },
 "nbformat": 4,
 "nbformat_minor": 2
}
