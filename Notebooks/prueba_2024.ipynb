{
 "cells": [
  {
   "cell_type": "code",
   "execution_count": 2,
   "metadata": {},
   "outputs": [
    {
     "name": "stdout",
     "output_type": "stream",
     "text": [
      "Converted ../Data/uber-nyc-forhire-vehicles-trip-data-2021/versions/1/fhv_tripdata_2024-03.parquet to fhv_tripdata_2024-03.csv\n"
     ]
    }
   ],
   "source": [
    "import pandas as pd\n",
    "\n",
    "# Read the Parquet file\n",
    "parquet_file = '../Data/uber-nyc-forhire-vehicles-trip-data-2021/versions/1/fhv_tripdata_2024-03.parquet'\n",
    "df = pd.read_parquet(parquet_file)\n",
    "\n",
    "# Convert to CSV\n",
    "csv_file = 'fhv_tripdata_2024-03.csv'\n",
    "df.to_csv(csv_file, index=False)\n",
    "\n",
    "print(f\"Converted {parquet_file} to {csv_file}\")"
   ]
  },
  {
   "cell_type": "code",
   "execution_count": 6,
   "metadata": {},
   "outputs": [],
   "source": [
    "import pyarrow.parquet as pq\n",
    "trips = pq.read_table(parquet_file)\n",
    "trips = trips.to_pandas()"
   ]
  }
 ],
 "metadata": {
  "kernelspec": {
   "display_name": "Python 3",
   "language": "python",
   "name": "python3"
  },
  "language_info": {
   "codemirror_mode": {
    "name": "ipython",
    "version": 3
   },
   "file_extension": ".py",
   "mimetype": "text/x-python",
   "name": "python",
   "nbconvert_exporter": "python",
   "pygments_lexer": "ipython3",
   "version": "3.10.12"
  }
 },
 "nbformat": 4,
 "nbformat_minor": 2
}
